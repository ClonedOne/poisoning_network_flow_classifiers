{
 "cells": [
  {
   "cell_type": "code",
   "execution_count": 1,
   "metadata": {},
   "outputs": [],
   "source": [
    "%load_ext autoreload\n",
    "%autoreload 2"
   ]
  },
  {
   "attachments": {},
   "cell_type": "markdown",
   "metadata": {},
   "source": [
    "https://pdfs.semanticscholar.org/2342/9b5be933e16e6988da9a322ad95dfdc8c4b0.pdf"
   ]
  },
  {
   "cell_type": "code",
   "execution_count": 3,
   "metadata": {},
   "outputs": [],
   "source": [
    "import os\n",
    "import io\n",
    "import numpy as np\n",
    "import pandas as pd\n",
    "import seaborn as sns\n",
    "import matplotlib.pyplot as plt\n",
    "\n",
    "from tqdm import tqdm\n",
    "from datetime import datetime\n",
    "from collections import Counter\n"
   ]
  },
  {
   "cell_type": "code",
   "execution_count": 4,
   "metadata": {},
   "outputs": [],
   "source": [
    "os.environ[\"CUDA_VISIBLE_DEVICES\"] = \"\""
   ]
  },
  {
   "cell_type": "code",
   "execution_count": 3,
   "metadata": {},
   "outputs": [],
   "source": [
    "def read_conn_log(dpth: str) -> pd.DataFrame:\n",
    "    cols_to_drop = [\n",
    "        \"local_orig\",\n",
    "        \"local_resp\",\n",
    "        \"missed_bytes\",\n",
    "        \"history\",\n",
    "        \"orig_ip_bytes\",\n",
    "        \"resp_ip_bytes\",\n",
    "        \"tunnel_parents\",\n",
    "    ]\n",
    "    separator = \"\\t\"\n",
    "    set_separator = \",\"\n",
    "\n",
    "    with open(os.path.join(dpth, \"conn.log\")) as f:\n",
    "        conn_log_lines = f.readlines()\n",
    "\n",
    "    # Find the line starting with #fields\n",
    "    fields_line = [i for i in conn_log_lines if i.startswith(\"#fields\")][0].strip()\n",
    "    fields = fields_line.split(separator)[1:]\n",
    "\n",
    "    # Remove all lines starting with #\n",
    "    conn_log_lines = [i.strip() for i in conn_log_lines if not i.startswith(\"#\")]\n",
    "\n",
    "    # Create dataframe from lines, with fields as column names\n",
    "    df = pd.DataFrame(\n",
    "        [i.strip().split(separator) for i in conn_log_lines], columns=fields\n",
    "    )\n",
    "\n",
    "    # Drop columns\n",
    "    df = df.drop(columns=cols_to_drop)\n",
    "\n",
    "    return df\n"
   ]
  },
  {
   "attachments": {},
   "cell_type": "markdown",
   "metadata": {},
   "source": [
    "## Botnet task"
   ]
  },
  {
   "cell_type": "code",
   "execution_count": 4,
   "metadata": {},
   "outputs": [],
   "source": [
    "# Change this to point to the dataset directory\n",
    "base_path = \"\"\n",
    "base_dir = f\"{base_path}/cic-ids-2018/friday_02-03-2018_zeek/\""
   ]
  },
  {
   "cell_type": "code",
   "execution_count": 5,
   "metadata": {},
   "outputs": [
    {
     "name": "stdout",
     "output_type": "stream",
     "text": [
      "Found 442 directories\n"
     ]
    }
   ],
   "source": [
    "tot_dirs = os.listdir(base_dir)\n",
    "print(\"Found {} directories\".format(len(tot_dirs)))"
   ]
  },
  {
   "cell_type": "code",
   "execution_count": 6,
   "metadata": {},
   "outputs": [],
   "source": [
    "all_dfs = []\n",
    "\n",
    "for d in tot_dirs:\n",
    "    # Load the conn.log file in the directory\n",
    "    df = read_conn_log(os.path.join(base_dir, d))\n",
    "    all_dfs.append(df)\n"
   ]
  },
  {
   "cell_type": "code",
   "execution_count": 7,
   "metadata": {},
   "outputs": [
    {
     "data": {
      "text/html": [
       "<div>\n",
       "<style scoped>\n",
       "    .dataframe tbody tr th:only-of-type {\n",
       "        vertical-align: middle;\n",
       "    }\n",
       "\n",
       "    .dataframe tbody tr th {\n",
       "        vertical-align: top;\n",
       "    }\n",
       "\n",
       "    .dataframe thead th {\n",
       "        text-align: right;\n",
       "    }\n",
       "</style>\n",
       "<table border=\"1\" class=\"dataframe\">\n",
       "  <thead>\n",
       "    <tr style=\"text-align: right;\">\n",
       "      <th></th>\n",
       "      <th>ts</th>\n",
       "      <th>uid</th>\n",
       "      <th>id.orig_h</th>\n",
       "      <th>id.orig_p</th>\n",
       "      <th>id.resp_h</th>\n",
       "      <th>id.resp_p</th>\n",
       "      <th>proto</th>\n",
       "      <th>service</th>\n",
       "      <th>duration</th>\n",
       "      <th>orig_bytes</th>\n",
       "      <th>resp_bytes</th>\n",
       "      <th>conn_state</th>\n",
       "      <th>orig_pkts</th>\n",
       "      <th>resp_pkts</th>\n",
       "    </tr>\n",
       "  </thead>\n",
       "  <tbody>\n",
       "    <tr>\n",
       "      <th>0</th>\n",
       "      <td>1519995037.811992</td>\n",
       "      <td>Cxii6q3yo7eMpIW6ue</td>\n",
       "      <td>117.149.164.184</td>\n",
       "      <td>54425</td>\n",
       "      <td>172.31.69.15</td>\n",
       "      <td>3389</td>\n",
       "      <td>tcp</td>\n",
       "      <td>-</td>\n",
       "      <td>0.303909</td>\n",
       "      <td>0</td>\n",
       "      <td>0</td>\n",
       "      <td>REJ</td>\n",
       "      <td>2</td>\n",
       "      <td>1</td>\n",
       "    </tr>\n",
       "    <tr>\n",
       "      <th>1</th>\n",
       "      <td>1519995043.238823</td>\n",
       "      <td>Cy6XaS3okrzpsOQgSk</td>\n",
       "      <td>77.72.82.96</td>\n",
       "      <td>56855</td>\n",
       "      <td>172.31.69.15</td>\n",
       "      <td>8162</td>\n",
       "      <td>tcp</td>\n",
       "      <td>-</td>\n",
       "      <td>0.110472</td>\n",
       "      <td>0</td>\n",
       "      <td>0</td>\n",
       "      <td>REJ</td>\n",
       "      <td>2</td>\n",
       "      <td>1</td>\n",
       "    </tr>\n",
       "    <tr>\n",
       "      <th>2</th>\n",
       "      <td>1519995039.095337</td>\n",
       "      <td>Cl9FnK2EIophqZMNq4</td>\n",
       "      <td>172.31.69.15</td>\n",
       "      <td>45052</td>\n",
       "      <td>91.189.94.4</td>\n",
       "      <td>123</td>\n",
       "      <td>udp</td>\n",
       "      <td>ntp</td>\n",
       "      <td>0.091543</td>\n",
       "      <td>48</td>\n",
       "      <td>48</td>\n",
       "      <td>SF</td>\n",
       "      <td>1</td>\n",
       "      <td>1</td>\n",
       "    </tr>\n",
       "    <tr>\n",
       "      <th>3</th>\n",
       "      <td>1519995111.101158</td>\n",
       "      <td>Cza4X02UiNI6OpFw6a</td>\n",
       "      <td>86.105.196.101</td>\n",
       "      <td>5818</td>\n",
       "      <td>172.31.69.15</td>\n",
       "      <td>10669</td>\n",
       "      <td>tcp</td>\n",
       "      <td>-</td>\n",
       "      <td>0.000022</td>\n",
       "      <td>0</td>\n",
       "      <td>0</td>\n",
       "      <td>RSTRH</td>\n",
       "      <td>1</td>\n",
       "      <td>1</td>\n",
       "    </tr>\n",
       "    <tr>\n",
       "      <th>4</th>\n",
       "      <td>1519995124.936724</td>\n",
       "      <td>ClsjeN15EDx6dDu0ba</td>\n",
       "      <td>5.188.9.25</td>\n",
       "      <td>50099</td>\n",
       "      <td>172.31.69.15</td>\n",
       "      <td>20020</td>\n",
       "      <td>tcp</td>\n",
       "      <td>-</td>\n",
       "      <td>0.113692</td>\n",
       "      <td>0</td>\n",
       "      <td>0</td>\n",
       "      <td>REJ</td>\n",
       "      <td>2</td>\n",
       "      <td>1</td>\n",
       "    </tr>\n",
       "    <tr>\n",
       "      <th>...</th>\n",
       "      <td>...</td>\n",
       "      <td>...</td>\n",
       "      <td>...</td>\n",
       "      <td>...</td>\n",
       "      <td>...</td>\n",
       "      <td>...</td>\n",
       "      <td>...</td>\n",
       "      <td>...</td>\n",
       "      <td>...</td>\n",
       "      <td>...</td>\n",
       "      <td>...</td>\n",
       "      <td>...</td>\n",
       "      <td>...</td>\n",
       "      <td>...</td>\n",
       "    </tr>\n",
       "    <tr>\n",
       "      <th>8291</th>\n",
       "      <td>1520026660.021127</td>\n",
       "      <td>CTqtbB1NEqhoTYRws</td>\n",
       "      <td>213.202.230.223</td>\n",
       "      <td>14061</td>\n",
       "      <td>172.31.67.98</td>\n",
       "      <td>3389</td>\n",
       "      <td>tcp</td>\n",
       "      <td>-</td>\n",
       "      <td>0.323888</td>\n",
       "      <td>43</td>\n",
       "      <td>0</td>\n",
       "      <td>S1</td>\n",
       "      <td>3</td>\n",
       "      <td>2</td>\n",
       "    </tr>\n",
       "    <tr>\n",
       "      <th>8292</th>\n",
       "      <td>1520026653.394961</td>\n",
       "      <td>CTEn3x1TiNh3yTgoW</td>\n",
       "      <td>5.101.40.43</td>\n",
       "      <td>53815</td>\n",
       "      <td>172.31.67.98</td>\n",
       "      <td>3389</td>\n",
       "      <td>tcp</td>\n",
       "      <td>ssl</td>\n",
       "      <td>11.132096</td>\n",
       "      <td>1144</td>\n",
       "      <td>1581</td>\n",
       "      <td>RSTO</td>\n",
       "      <td>8</td>\n",
       "      <td>8</td>\n",
       "    </tr>\n",
       "    <tr>\n",
       "      <th>8293</th>\n",
       "      <td>1520026613.201921</td>\n",
       "      <td>C6rlto2mAmgDroEXf6</td>\n",
       "      <td>172.31.67.98</td>\n",
       "      <td>50832</td>\n",
       "      <td>52.10.55.151</td>\n",
       "      <td>443</td>\n",
       "      <td>tcp</td>\n",
       "      <td>ssl</td>\n",
       "      <td>50.010975</td>\n",
       "      <td>6344</td>\n",
       "      <td>3188</td>\n",
       "      <td>S1</td>\n",
       "      <td>13</td>\n",
       "      <td>13</td>\n",
       "    </tr>\n",
       "    <tr>\n",
       "      <th>8294</th>\n",
       "      <td>1520026605.691789</td>\n",
       "      <td>CcxoNC2CiV9Htx5lEe</td>\n",
       "      <td>172.31.67.98</td>\n",
       "      <td>50831</td>\n",
       "      <td>169.254.169.254</td>\n",
       "      <td>80</td>\n",
       "      <td>tcp</td>\n",
       "      <td>http</td>\n",
       "      <td>60.024012</td>\n",
       "      <td>97</td>\n",
       "      <td>231</td>\n",
       "      <td>SF</td>\n",
       "      <td>6</td>\n",
       "      <td>5</td>\n",
       "    </tr>\n",
       "    <tr>\n",
       "      <th>8295</th>\n",
       "      <td>1520026593.378554</td>\n",
       "      <td>CvniFL35jFumReg3R9</td>\n",
       "      <td>fe80::680f:5590:dc97:b256</td>\n",
       "      <td>546</td>\n",
       "      <td>ff02::1:2</td>\n",
       "      <td>547</td>\n",
       "      <td>udp</td>\n",
       "      <td>-</td>\n",
       "      <td>52.772727</td>\n",
       "      <td>950</td>\n",
       "      <td>0</td>\n",
       "      <td>S0</td>\n",
       "      <td>10</td>\n",
       "      <td>0</td>\n",
       "    </tr>\n",
       "  </tbody>\n",
       "</table>\n",
       "<p>6244607 rows × 14 columns</p>\n",
       "</div>"
      ],
      "text/plain": [
       "                     ts                 uid                  id.orig_h  \\\n",
       "0     1519995037.811992  Cxii6q3yo7eMpIW6ue            117.149.164.184   \n",
       "1     1519995043.238823  Cy6XaS3okrzpsOQgSk                77.72.82.96   \n",
       "2     1519995039.095337  Cl9FnK2EIophqZMNq4               172.31.69.15   \n",
       "3     1519995111.101158  Cza4X02UiNI6OpFw6a             86.105.196.101   \n",
       "4     1519995124.936724  ClsjeN15EDx6dDu0ba                 5.188.9.25   \n",
       "...                 ...                 ...                        ...   \n",
       "8291  1520026660.021127   CTqtbB1NEqhoTYRws            213.202.230.223   \n",
       "8292  1520026653.394961   CTEn3x1TiNh3yTgoW                5.101.40.43   \n",
       "8293  1520026613.201921  C6rlto2mAmgDroEXf6               172.31.67.98   \n",
       "8294  1520026605.691789  CcxoNC2CiV9Htx5lEe               172.31.67.98   \n",
       "8295  1520026593.378554  CvniFL35jFumReg3R9  fe80::680f:5590:dc97:b256   \n",
       "\n",
       "     id.orig_p        id.resp_h id.resp_p proto service   duration orig_bytes  \\\n",
       "0        54425     172.31.69.15      3389   tcp       -   0.303909          0   \n",
       "1        56855     172.31.69.15      8162   tcp       -   0.110472          0   \n",
       "2        45052      91.189.94.4       123   udp     ntp   0.091543         48   \n",
       "3         5818     172.31.69.15     10669   tcp       -   0.000022          0   \n",
       "4        50099     172.31.69.15     20020   tcp       -   0.113692          0   \n",
       "...        ...              ...       ...   ...     ...        ...        ...   \n",
       "8291     14061     172.31.67.98      3389   tcp       -   0.323888         43   \n",
       "8292     53815     172.31.67.98      3389   tcp     ssl  11.132096       1144   \n",
       "8293     50832     52.10.55.151       443   tcp     ssl  50.010975       6344   \n",
       "8294     50831  169.254.169.254        80   tcp    http  60.024012         97   \n",
       "8295       546        ff02::1:2       547   udp       -  52.772727        950   \n",
       "\n",
       "     resp_bytes conn_state orig_pkts resp_pkts  \n",
       "0             0        REJ         2         1  \n",
       "1             0        REJ         2         1  \n",
       "2            48         SF         1         1  \n",
       "3             0      RSTRH         1         1  \n",
       "4             0        REJ         2         1  \n",
       "...         ...        ...       ...       ...  \n",
       "8291          0         S1         3         2  \n",
       "8292       1581       RSTO         8         8  \n",
       "8293       3188         S1        13        13  \n",
       "8294        231         SF         6         5  \n",
       "8295          0         S0        10         0  \n",
       "\n",
       "[6244607 rows x 14 columns]"
      ]
     },
     "metadata": {},
     "output_type": "display_data"
    },
    {
     "name": "stdout",
     "output_type": "stream",
     "text": [
      "Total number of connections: 6244607\n"
     ]
    }
   ],
   "source": [
    "all_dfs = pd.concat(all_dfs)\n",
    "display(all_dfs)\n",
    "print(\"Total number of connections: {}\".format(len(all_dfs)))"
   ]
  },
  {
   "cell_type": "code",
   "execution_count": 8,
   "metadata": {},
   "outputs": [
    {
     "name": "stdout",
     "output_type": "stream",
     "text": [
      "Remaining connections: 6244607\n",
      "Remaining connections: 6203903\n"
     ]
    }
   ],
   "source": [
    "# Remove all rows where id.orig_h == id.resp_h\n",
    "all_dfs = all_dfs[all_dfs[\"id.orig_h\"] != all_dfs[\"id.resp_h\"]]\n",
    "print(\"Remaining connections: {}\".format(len(all_dfs)))\n",
    "# Remove all rows where either id.orig_h or id.resp_h is an IPV6 address\n",
    "all_dfs = all_dfs[\n",
    "    ~all_dfs[\"id.orig_h\"].str.contains(\":\") & ~all_dfs[\"id.resp_h\"].str.contains(\":\")\n",
    "]\n",
    "print(\"Remaining connections: {}\".format(len(all_dfs)))"
   ]
  },
  {
   "cell_type": "code",
   "execution_count": 9,
   "metadata": {},
   "outputs": [],
   "source": [
    "attacker_ip = \"18.219.211.138\""
   ]
  },
  {
   "cell_type": "code",
   "execution_count": 10,
   "metadata": {},
   "outputs": [
    {
     "name": "stdout",
     "output_type": "stream",
     "text": [
      "Number of connections from/to attacker: 143183\n",
      "Percentage of connections from/to attacker: 2.31%\n"
     ]
    }
   ],
   "source": [
    "# Create a vector of 1s and 0s, where 1 indicates that the connection is either from or to the attacker\n",
    "is_attacker = (all_dfs[\"id.orig_h\"] == attacker_ip) | (all_dfs[\"id.resp_h\"] == attacker_ip)\n",
    "print(\"Number of connections from/to attacker: {}\".format(sum(is_attacker)))\n",
    "\n",
    "all_dfs[\"label\"] = is_attacker.astype(int)\n",
    "\n",
    "# Print the percentage of connections from/to the attacker\n",
    "print(\"Percentage of connections from/to attacker: {:.2f}%\".format(100 * sum(is_attacker) / len(all_dfs)))"
   ]
  },
  {
   "cell_type": "code",
   "execution_count": 11,
   "metadata": {},
   "outputs": [],
   "source": [
    "# Convert the timestamp to a datetime object\n",
    "dates = [datetime.fromtimestamp(float(i)) for i in all_dfs[\"ts\"]]"
   ]
  },
  {
   "cell_type": "code",
   "execution_count": 12,
   "metadata": {},
   "outputs": [
    {
     "name": "stdout",
     "output_type": "stream",
     "text": [
      "Earliest date: 2018-02-27 07:18:26.348188\n",
      "Latest date: 2018-03-02 19:39:51.398516\n",
      "Number of connections before 12.00: 3005968\n",
      "Number of connections after 12.00: 3197935\n",
      "Percentage of connections from/to attacker before 12.00: 2.41%\n",
      "Percentage of connections from/to attacker after 12.00: 2.21%\n"
     ]
    }
   ],
   "source": [
    "# Find earliest and latest date\n",
    "print(\"Earliest date: {}\".format(min(dates)))\n",
    "print(\"Latest date: {}\".format(max(dates)))\n",
    "# Count the number of dates before 12.00 and after 12.00\n",
    "before_12 = sum([i.hour < 12 for i in dates])\n",
    "after_12 = sum([i.hour >= 12 for i in dates])\n",
    "print(\"Number of connections before 12.00: {}\".format(before_12))\n",
    "print(\"Number of connections after 12.00: {}\".format(after_12))\n",
    "\n",
    "# Count the percentage of label 1s before 12.00 and after 12.00\n",
    "before_12_attacker = sum(\n",
    "    (all_dfs[\"label\"] == 1) & ([i.hour < 12 for i in dates])\n",
    ")\n",
    "after_12_attacker = sum(\n",
    "    (all_dfs[\"label\"] == 1) & ([i.hour >= 12 for i in dates])\n",
    ")\n",
    "print(\"Percentage of connections from/to attacker before 12.00: {:.2f}%\".format(100 * before_12_attacker / before_12))\n",
    "print(\"Percentage of connections from/to attacker after 12.00: {:.2f}%\".format(100 * after_12_attacker / after_12))\n"
   ]
  },
  {
   "attachments": {},
   "cell_type": "markdown",
   "metadata": {},
   "source": [
    "### Basic classification test"
   ]
  },
  {
   "cell_type": "code",
   "execution_count": 13,
   "metadata": {},
   "outputs": [
    {
     "name": "stdout",
     "output_type": "stream",
     "text": [
      "Number of connections in train: 3005968\n",
      "Number of connections in test: 3197935\n"
     ]
    }
   ],
   "source": [
    "# Split the data into train and test by selecting connections before and after 12.00\n",
    "train = all_dfs[[i.hour < 12 for i in dates]]\n",
    "test = all_dfs[[i.hour >= 12 for i in dates]]\n",
    "\n",
    "print(\"Number of connections in train: {}\".format(len(train)))\n",
    "print(\"Number of connections in test: {}\".format(len(test)))"
   ]
  },
  {
   "cell_type": "code",
   "execution_count": 14,
   "metadata": {},
   "outputs": [
    {
     "name": "stdout",
     "output_type": "stream",
     "text": [
      "Initial number of features: 9\n",
      "Number of features after one hot encoding: 23\n"
     ]
    }
   ],
   "source": [
    "y_trn = train[\"label\"]\n",
    "y_tst = test[\"label\"]\n",
    "\n",
    "x_trn = train.drop(columns=[\"label\", \"ts\", \"uid\", \"id.orig_h\", \"id.resp_h\", \"service\"])\n",
    "x_tst = test.drop(columns=[\"label\", \"ts\", \"uid\", \"id.orig_h\", \"id.resp_h\", \"service\"])\n",
    "print(\"Initial number of features: {}\".format(len(x_trn.columns)))\n",
    "assert len(x_trn.columns) == len(x_tst.columns)\n",
    "\n",
    "# Convert all '-' to 0\n",
    "x_trn = x_trn.replace(\"-\", 0)\n",
    "x_tst = x_tst.replace(\"-\", 0)\n",
    "\n",
    "# One hot encode the categorical features\n",
    "# categorical_features = [\"proto\", \"service\", \"conn_state\"]\n",
    "categorical_features = [\"proto\", \"conn_state\"]\n",
    "x_trn = pd.get_dummies(x_trn, columns=categorical_features)\n",
    "x_tst = pd.get_dummies(x_tst, columns=categorical_features)\n",
    "print(\"Number of features after one hot encoding: {}\".format(len(x_trn.columns)))\n",
    "assert len(x_trn.columns) == len(x_tst.columns)"
   ]
  },
  {
   "cell_type": "code",
   "execution_count": 15,
   "metadata": {},
   "outputs": [],
   "source": [
    "from sklearn.ensemble import RandomForestClassifier\n",
    "from sklearn.metrics import accuracy_score, f1_score, confusion_matrix, classification_report"
   ]
  },
  {
   "cell_type": "code",
   "execution_count": 16,
   "metadata": {},
   "outputs": [
    {
     "data": {
      "text/html": [
       "<style>#sk-container-id-1 {color: black;background-color: white;}#sk-container-id-1 pre{padding: 0;}#sk-container-id-1 div.sk-toggleable {background-color: white;}#sk-container-id-1 label.sk-toggleable__label {cursor: pointer;display: block;width: 100%;margin-bottom: 0;padding: 0.3em;box-sizing: border-box;text-align: center;}#sk-container-id-1 label.sk-toggleable__label-arrow:before {content: \"▸\";float: left;margin-right: 0.25em;color: #696969;}#sk-container-id-1 label.sk-toggleable__label-arrow:hover:before {color: black;}#sk-container-id-1 div.sk-estimator:hover label.sk-toggleable__label-arrow:before {color: black;}#sk-container-id-1 div.sk-toggleable__content {max-height: 0;max-width: 0;overflow: hidden;text-align: left;background-color: #f0f8ff;}#sk-container-id-1 div.sk-toggleable__content pre {margin: 0.2em;color: black;border-radius: 0.25em;background-color: #f0f8ff;}#sk-container-id-1 input.sk-toggleable__control:checked~div.sk-toggleable__content {max-height: 200px;max-width: 100%;overflow: auto;}#sk-container-id-1 input.sk-toggleable__control:checked~label.sk-toggleable__label-arrow:before {content: \"▾\";}#sk-container-id-1 div.sk-estimator input.sk-toggleable__control:checked~label.sk-toggleable__label {background-color: #d4ebff;}#sk-container-id-1 div.sk-label input.sk-toggleable__control:checked~label.sk-toggleable__label {background-color: #d4ebff;}#sk-container-id-1 input.sk-hidden--visually {border: 0;clip: rect(1px 1px 1px 1px);clip: rect(1px, 1px, 1px, 1px);height: 1px;margin: -1px;overflow: hidden;padding: 0;position: absolute;width: 1px;}#sk-container-id-1 div.sk-estimator {font-family: monospace;background-color: #f0f8ff;border: 1px dotted black;border-radius: 0.25em;box-sizing: border-box;margin-bottom: 0.5em;}#sk-container-id-1 div.sk-estimator:hover {background-color: #d4ebff;}#sk-container-id-1 div.sk-parallel-item::after {content: \"\";width: 100%;border-bottom: 1px solid gray;flex-grow: 1;}#sk-container-id-1 div.sk-label:hover label.sk-toggleable__label {background-color: #d4ebff;}#sk-container-id-1 div.sk-serial::before {content: \"\";position: absolute;border-left: 1px solid gray;box-sizing: border-box;top: 0;bottom: 0;left: 50%;z-index: 0;}#sk-container-id-1 div.sk-serial {display: flex;flex-direction: column;align-items: center;background-color: white;padding-right: 0.2em;padding-left: 0.2em;position: relative;}#sk-container-id-1 div.sk-item {position: relative;z-index: 1;}#sk-container-id-1 div.sk-parallel {display: flex;align-items: stretch;justify-content: center;background-color: white;position: relative;}#sk-container-id-1 div.sk-item::before, #sk-container-id-1 div.sk-parallel-item::before {content: \"\";position: absolute;border-left: 1px solid gray;box-sizing: border-box;top: 0;bottom: 0;left: 50%;z-index: -1;}#sk-container-id-1 div.sk-parallel-item {display: flex;flex-direction: column;z-index: 1;position: relative;background-color: white;}#sk-container-id-1 div.sk-parallel-item:first-child::after {align-self: flex-end;width: 50%;}#sk-container-id-1 div.sk-parallel-item:last-child::after {align-self: flex-start;width: 50%;}#sk-container-id-1 div.sk-parallel-item:only-child::after {width: 0;}#sk-container-id-1 div.sk-dashed-wrapped {border: 1px dashed gray;margin: 0 0.4em 0.5em 0.4em;box-sizing: border-box;padding-bottom: 0.4em;background-color: white;}#sk-container-id-1 div.sk-label label {font-family: monospace;font-weight: bold;display: inline-block;line-height: 1.2em;}#sk-container-id-1 div.sk-label-container {text-align: center;}#sk-container-id-1 div.sk-container {/* jupyter's `normalize.less` sets `[hidden] { display: none; }` but bootstrap.min.css set `[hidden] { display: none !important; }` so we also need the `!important` here to be able to override the default hidden behavior on the sphinx rendered scikit-learn.org. See: https://github.com/scikit-learn/scikit-learn/issues/21755 */display: inline-block !important;position: relative;}#sk-container-id-1 div.sk-text-repr-fallback {display: none;}</style><div id=\"sk-container-id-1\" class=\"sk-top-container\"><div class=\"sk-text-repr-fallback\"><pre>RandomForestClassifier(n_jobs=-1)</pre><b>In a Jupyter environment, please rerun this cell to show the HTML representation or trust the notebook. <br />On GitHub, the HTML representation is unable to render, please try loading this page with nbviewer.org.</b></div><div class=\"sk-container\" hidden><div class=\"sk-item\"><div class=\"sk-estimator sk-toggleable\"><input class=\"sk-toggleable__control sk-hidden--visually\" id=\"sk-estimator-id-1\" type=\"checkbox\" checked><label for=\"sk-estimator-id-1\" class=\"sk-toggleable__label sk-toggleable__label-arrow\">RandomForestClassifier</label><div class=\"sk-toggleable__content\"><pre>RandomForestClassifier(n_jobs=-1)</pre></div></div></div></div></div>"
      ],
      "text/plain": [
       "RandomForestClassifier(n_jobs=-1)"
      ]
     },
     "execution_count": 16,
     "metadata": {},
     "output_type": "execute_result"
    }
   ],
   "source": [
    "model = RandomForestClassifier(n_estimators=100, n_jobs=-1)\n",
    "model.fit(x_trn, y_trn)"
   ]
  },
  {
   "cell_type": "code",
   "execution_count": 17,
   "metadata": {},
   "outputs": [
    {
     "name": "stdout",
     "output_type": "stream",
     "text": [
      "Accuracy: 99.99%\n",
      "F1 score: 99.81%\n",
      "Confusion matrix:\n",
      "[[3127139       0]\n",
      " [    262   70534]]\n",
      "Classification report:\n",
      "              precision    recall  f1-score   support\n",
      "\n",
      "           0       1.00      1.00      1.00   3127139\n",
      "           1       1.00      1.00      1.00     70796\n",
      "\n",
      "    accuracy                           1.00   3197935\n",
      "   macro avg       1.00      1.00      1.00   3197935\n",
      "weighted avg       1.00      1.00      1.00   3197935\n",
      "\n"
     ]
    }
   ],
   "source": [
    "preds = model.predict(x_tst)\n",
    "print(\"Accuracy: {:.2f}%\".format(100 * accuracy_score(y_tst, preds)))\n",
    "print(\"F1 score: {:.2f}%\".format(100 * f1_score(y_tst, preds)))\n",
    "print(\"Confusion matrix:\")\n",
    "print(confusion_matrix(y_tst, preds))\n",
    "print(\"Classification report:\")\n",
    "print(classification_report(y_tst, preds))"
   ]
  },
  {
   "cell_type": "code",
   "execution_count": 18,
   "metadata": {},
   "outputs": [
    {
     "name": "stdout",
     "output_type": "stream",
     "text": [
      "Feature ranking:\n",
      "  1. feature id.resp_p            0.3395010131447603\n",
      "  2. feature resp_bytes           0.19752568100270224\n",
      "  3. feature orig_bytes           0.12982895422095259\n",
      "  4. feature resp_pkts            0.1000632226807775\n",
      "  5. feature duration             0.09045377443538868\n",
      "  6. feature orig_pkts            0.06281122706959101\n",
      "  7. feature id.orig_p            0.037939579377925636\n",
      "  8. feature conn_state_SF        0.016382729517927658\n",
      "  9. feature proto_udp            0.00899408157562793\n",
      " 10. feature conn_state_S0        0.0070575817545198045\n",
      " 11. feature proto_tcp            0.006151088565793543\n",
      " 12. feature conn_state_RSTR      0.0016898300303897925\n",
      " 13. feature conn_state_RSTO      0.0006684459434866043\n",
      " 14. feature conn_state_SHR       0.0005398960410000203\n",
      " 15. feature conn_state_OTH       0.0002741171753579982\n",
      " 16. feature conn_state_REJ       0.00011705769475004322\n",
      " 17. feature conn_state_RSTRH     6.174512820872116e-07\n",
      " 18. feature proto_icmp           4.999082058935149e-07\n",
      " 19. feature conn_state_S1        4.647279213489557e-07\n",
      " 20. feature conn_state_SH        1.3435814979053313e-07\n",
      " 21. feature conn_state_S3        3.323459330686112e-09\n",
      " 22. feature conn_state_S2        3.035308407809407e-14\n",
      " 23. feature conn_state_RSTOS0      0.0\n"
     ]
    }
   ],
   "source": [
    "# Show the relative importance of each feature\n",
    "importances = model.feature_importances_\n",
    "indices = np.argsort(importances)[::-1]\n",
    "print(\"Feature ranking:\")\n",
    "for f in range(x_trn.shape[1]):\n",
    "    print(\n",
    "        \"{:3}. feature {:20} {:5}\".format(\n",
    "            f + 1, x_trn.columns[indices[f]], importances[indices[f]]\n",
    "        )\n",
    "    )"
   ]
  },
  {
   "cell_type": "code",
   "execution_count": 19,
   "metadata": {},
   "outputs": [
    {
     "name": "stdout",
     "output_type": "stream",
     "text": [
      "Number of unique ports used by the attacker: 1\n",
      "Most common ports used by the attacker: 8080    143183\n",
      "Name: id.resp_p, dtype: int64\n"
     ]
    }
   ],
   "source": [
    "# Distribution of ports used by the attacker\n",
    "attacker_ports = all_dfs[all_dfs[\"label\"] == 1][\"id.resp_p\"]\n",
    "print(\"Number of unique ports used by the attacker: {}\".format(len(attacker_ports.unique())))\n",
    "print(\"Most common ports used by the attacker: {}\".format(attacker_ports.value_counts().head(10)))"
   ]
  },
  {
   "cell_type": "code",
   "execution_count": 20,
   "metadata": {},
   "outputs": [
    {
     "name": "stdout",
     "output_type": "stream",
     "text": [
      "Number of unique ports used by other hosts: 12543\n"
     ]
    }
   ],
   "source": [
    "other_ports = all_dfs[all_dfs[\"label\"] == 0][\"id.resp_p\"]\n",
    "print(\"Number of unique ports used by other hosts: {}\".format(len(other_ports.unique())))\n"
   ]
  },
  {
   "cell_type": "code",
   "execution_count": 21,
   "metadata": {},
   "outputs": [
    {
     "name": "stdout",
     "output_type": "stream",
     "text": [
      "Number of times non attacker hosts used port 8080: 3711\n"
     ]
    }
   ],
   "source": [
    "# Number of times non attacker hosts used port 8080\n",
    "print(\"Number of times non attacker hosts used port 8080: {}\".format(sum(other_ports == \"8080\")))"
   ]
  },
  {
   "attachments": {},
   "cell_type": "markdown",
   "metadata": {},
   "source": [
    "## Infiltration task"
   ]
  },
  {
   "cell_type": "code",
   "execution_count": 22,
   "metadata": {},
   "outputs": [],
   "source": [
    "base_dir = f\"{base_path}/cic-ids-2018/thursday_01-03-2018_zeek\""
   ]
  },
  {
   "cell_type": "code",
   "execution_count": 23,
   "metadata": {},
   "outputs": [
    {
     "name": "stdout",
     "output_type": "stream",
     "text": [
      "Found 443 directories\n"
     ]
    }
   ],
   "source": [
    "tot_dirs = os.listdir(base_dir)\n",
    "print(\"Found {} directories\".format(len(tot_dirs)))"
   ]
  },
  {
   "cell_type": "code",
   "execution_count": 24,
   "metadata": {},
   "outputs": [],
   "source": [
    "all_dfs = []\n",
    "\n",
    "for d in tot_dirs:\n",
    "    # Load the conn.log file in the directory\n",
    "    df = read_conn_log(os.path.join(base_dir, d))\n",
    "    all_dfs.append(df)\n"
   ]
  },
  {
   "cell_type": "code",
   "execution_count": 25,
   "metadata": {},
   "outputs": [
    {
     "data": {
      "text/html": [
       "<div>\n",
       "<style scoped>\n",
       "    .dataframe tbody tr th:only-of-type {\n",
       "        vertical-align: middle;\n",
       "    }\n",
       "\n",
       "    .dataframe tbody tr th {\n",
       "        vertical-align: top;\n",
       "    }\n",
       "\n",
       "    .dataframe thead th {\n",
       "        text-align: right;\n",
       "    }\n",
       "</style>\n",
       "<table border=\"1\" class=\"dataframe\">\n",
       "  <thead>\n",
       "    <tr style=\"text-align: right;\">\n",
       "      <th></th>\n",
       "      <th>ts</th>\n",
       "      <th>uid</th>\n",
       "      <th>id.orig_h</th>\n",
       "      <th>id.orig_p</th>\n",
       "      <th>id.resp_h</th>\n",
       "      <th>id.resp_p</th>\n",
       "      <th>proto</th>\n",
       "      <th>service</th>\n",
       "      <th>duration</th>\n",
       "      <th>orig_bytes</th>\n",
       "      <th>resp_bytes</th>\n",
       "      <th>conn_state</th>\n",
       "      <th>orig_pkts</th>\n",
       "      <th>resp_pkts</th>\n",
       "    </tr>\n",
       "  </thead>\n",
       "  <tbody>\n",
       "    <tr>\n",
       "      <th>0</th>\n",
       "      <td>1519906857.491276</td>\n",
       "      <td>CIzFxH2nx1XUxB9kKf</td>\n",
       "      <td>5.188.11.111</td>\n",
       "      <td>57580</td>\n",
       "      <td>172.31.69.15</td>\n",
       "      <td>4010</td>\n",
       "      <td>tcp</td>\n",
       "      <td>-</td>\n",
       "      <td>0.101403</td>\n",
       "      <td>0</td>\n",
       "      <td>0</td>\n",
       "      <td>REJ</td>\n",
       "      <td>2</td>\n",
       "      <td>1</td>\n",
       "    </tr>\n",
       "    <tr>\n",
       "      <th>1</th>\n",
       "      <td>1519906870.368963</td>\n",
       "      <td>CGATlmcUF8O9KObL</td>\n",
       "      <td>79.107.241.121</td>\n",
       "      <td>27485</td>\n",
       "      <td>172.31.69.15</td>\n",
       "      <td>23</td>\n",
       "      <td>tcp</td>\n",
       "      <td>-</td>\n",
       "      <td>0.000019</td>\n",
       "      <td>0</td>\n",
       "      <td>0</td>\n",
       "      <td>REJ</td>\n",
       "      <td>1</td>\n",
       "      <td>1</td>\n",
       "    </tr>\n",
       "    <tr>\n",
       "      <th>2</th>\n",
       "      <td>1519906899.453201</td>\n",
       "      <td>CG7sSd20gKfsNBvo49</td>\n",
       "      <td>197.50.232.198</td>\n",
       "      <td>54948</td>\n",
       "      <td>172.31.69.15</td>\n",
       "      <td>445</td>\n",
       "      <td>tcp</td>\n",
       "      <td>-</td>\n",
       "      <td>0.000023</td>\n",
       "      <td>0</td>\n",
       "      <td>0</td>\n",
       "      <td>REJ</td>\n",
       "      <td>1</td>\n",
       "      <td>1</td>\n",
       "    </tr>\n",
       "    <tr>\n",
       "      <th>3</th>\n",
       "      <td>1519906900.130016</td>\n",
       "      <td>C90Aiq9qL8NlfTcLf</td>\n",
       "      <td>197.50.232.198</td>\n",
       "      <td>54948</td>\n",
       "      <td>172.31.69.15</td>\n",
       "      <td>445</td>\n",
       "      <td>tcp</td>\n",
       "      <td>-</td>\n",
       "      <td>0.000021</td>\n",
       "      <td>0</td>\n",
       "      <td>0</td>\n",
       "      <td>REJ</td>\n",
       "      <td>1</td>\n",
       "      <td>1</td>\n",
       "    </tr>\n",
       "    <tr>\n",
       "      <th>4</th>\n",
       "      <td>1519906928.566989</td>\n",
       "      <td>CNJsHP2rxPibF2t5ij</td>\n",
       "      <td>139.215.216.36</td>\n",
       "      <td>31911</td>\n",
       "      <td>172.31.69.15</td>\n",
       "      <td>23</td>\n",
       "      <td>tcp</td>\n",
       "      <td>-</td>\n",
       "      <td>0.000019</td>\n",
       "      <td>0</td>\n",
       "      <td>0</td>\n",
       "      <td>REJ</td>\n",
       "      <td>1</td>\n",
       "      <td>1</td>\n",
       "    </tr>\n",
       "    <tr>\n",
       "      <th>...</th>\n",
       "      <td>...</td>\n",
       "      <td>...</td>\n",
       "      <td>...</td>\n",
       "      <td>...</td>\n",
       "      <td>...</td>\n",
       "      <td>...</td>\n",
       "      <td>...</td>\n",
       "      <td>...</td>\n",
       "      <td>...</td>\n",
       "      <td>...</td>\n",
       "      <td>...</td>\n",
       "      <td>...</td>\n",
       "      <td>...</td>\n",
       "      <td>...</td>\n",
       "    </tr>\n",
       "    <tr>\n",
       "      <th>7249</th>\n",
       "      <td>1519940226.793272</td>\n",
       "      <td>C5zsxL1DAB064ujx5</td>\n",
       "      <td>176.99.158.199</td>\n",
       "      <td>54672</td>\n",
       "      <td>172.31.67.98</td>\n",
       "      <td>3389</td>\n",
       "      <td>tcp</td>\n",
       "      <td>ssl</td>\n",
       "      <td>14.068993</td>\n",
       "      <td>1148</td>\n",
       "      <td>1544</td>\n",
       "      <td>S1</td>\n",
       "      <td>9</td>\n",
       "      <td>8</td>\n",
       "    </tr>\n",
       "    <tr>\n",
       "      <th>7250</th>\n",
       "      <td>1519940223.972522</td>\n",
       "      <td>CokJSM3kYi2KUY79D6</td>\n",
       "      <td>69.16.232.48</td>\n",
       "      <td>61971</td>\n",
       "      <td>172.31.67.98</td>\n",
       "      <td>3389</td>\n",
       "      <td>tcp</td>\n",
       "      <td>ssl</td>\n",
       "      <td>12.944852</td>\n",
       "      <td>1132</td>\n",
       "      <td>1581</td>\n",
       "      <td>RSTO</td>\n",
       "      <td>9</td>\n",
       "      <td>8</td>\n",
       "    </tr>\n",
       "    <tr>\n",
       "      <th>7251</th>\n",
       "      <td>1519940215.796293</td>\n",
       "      <td>CtLwWv2ZwPLKn3Bz5j</td>\n",
       "      <td>172.31.67.98</td>\n",
       "      <td>51019</td>\n",
       "      <td>169.254.169.254</td>\n",
       "      <td>80</td>\n",
       "      <td>tcp</td>\n",
       "      <td>http</td>\n",
       "      <td>5.765294</td>\n",
       "      <td>97</td>\n",
       "      <td>231</td>\n",
       "      <td>S3</td>\n",
       "      <td>5</td>\n",
       "      <td>4</td>\n",
       "    </tr>\n",
       "    <tr>\n",
       "      <th>7252</th>\n",
       "      <td>1519940185.740850</td>\n",
       "      <td>CvA3Ab3nvDun4I6cza</td>\n",
       "      <td>172.31.67.98</td>\n",
       "      <td>51011</td>\n",
       "      <td>34.211.99.53</td>\n",
       "      <td>443</td>\n",
       "      <td>tcp</td>\n",
       "      <td>ssl</td>\n",
       "      <td>48.995335</td>\n",
       "      <td>863</td>\n",
       "      <td>3275</td>\n",
       "      <td>S1</td>\n",
       "      <td>12</td>\n",
       "      <td>11</td>\n",
       "    </tr>\n",
       "    <tr>\n",
       "      <th>7253</th>\n",
       "      <td>1519939909.807606</td>\n",
       "      <td>CiBym21ywPzZvjYlT</td>\n",
       "      <td>172.31.67.98</td>\n",
       "      <td>50908</td>\n",
       "      <td>104.244.43.48</td>\n",
       "      <td>443</td>\n",
       "      <td>tcp</td>\n",
       "      <td>-</td>\n",
       "      <td>239.851305</td>\n",
       "      <td>0</td>\n",
       "      <td>58</td>\n",
       "      <td>OTH</td>\n",
       "      <td>0</td>\n",
       "      <td>6</td>\n",
       "    </tr>\n",
       "  </tbody>\n",
       "</table>\n",
       "<p>6662591 rows × 14 columns</p>\n",
       "</div>"
      ],
      "text/plain": [
       "                     ts                 uid       id.orig_h id.orig_p  \\\n",
       "0     1519906857.491276  CIzFxH2nx1XUxB9kKf    5.188.11.111     57580   \n",
       "1     1519906870.368963    CGATlmcUF8O9KObL  79.107.241.121     27485   \n",
       "2     1519906899.453201  CG7sSd20gKfsNBvo49  197.50.232.198     54948   \n",
       "3     1519906900.130016   C90Aiq9qL8NlfTcLf  197.50.232.198     54948   \n",
       "4     1519906928.566989  CNJsHP2rxPibF2t5ij  139.215.216.36     31911   \n",
       "...                 ...                 ...             ...       ...   \n",
       "7249  1519940226.793272   C5zsxL1DAB064ujx5  176.99.158.199     54672   \n",
       "7250  1519940223.972522  CokJSM3kYi2KUY79D6    69.16.232.48     61971   \n",
       "7251  1519940215.796293  CtLwWv2ZwPLKn3Bz5j    172.31.67.98     51019   \n",
       "7252  1519940185.740850  CvA3Ab3nvDun4I6cza    172.31.67.98     51011   \n",
       "7253  1519939909.807606   CiBym21ywPzZvjYlT    172.31.67.98     50908   \n",
       "\n",
       "            id.resp_h id.resp_p proto service    duration orig_bytes  \\\n",
       "0        172.31.69.15      4010   tcp       -    0.101403          0   \n",
       "1        172.31.69.15        23   tcp       -    0.000019          0   \n",
       "2        172.31.69.15       445   tcp       -    0.000023          0   \n",
       "3        172.31.69.15       445   tcp       -    0.000021          0   \n",
       "4        172.31.69.15        23   tcp       -    0.000019          0   \n",
       "...               ...       ...   ...     ...         ...        ...   \n",
       "7249     172.31.67.98      3389   tcp     ssl   14.068993       1148   \n",
       "7250     172.31.67.98      3389   tcp     ssl   12.944852       1132   \n",
       "7251  169.254.169.254        80   tcp    http    5.765294         97   \n",
       "7252     34.211.99.53       443   tcp     ssl   48.995335        863   \n",
       "7253    104.244.43.48       443   tcp       -  239.851305          0   \n",
       "\n",
       "     resp_bytes conn_state orig_pkts resp_pkts  \n",
       "0             0        REJ         2         1  \n",
       "1             0        REJ         1         1  \n",
       "2             0        REJ         1         1  \n",
       "3             0        REJ         1         1  \n",
       "4             0        REJ         1         1  \n",
       "...         ...        ...       ...       ...  \n",
       "7249       1544         S1         9         8  \n",
       "7250       1581       RSTO         9         8  \n",
       "7251        231         S3         5         4  \n",
       "7252       3275         S1        12        11  \n",
       "7253         58        OTH         0         6  \n",
       "\n",
       "[6662591 rows x 14 columns]"
      ]
     },
     "metadata": {},
     "output_type": "display_data"
    },
    {
     "name": "stdout",
     "output_type": "stream",
     "text": [
      "Total number of connections: 6662591\n"
     ]
    }
   ],
   "source": [
    "all_dfs = pd.concat(all_dfs)\n",
    "display(all_dfs)\n",
    "print(\"Total number of connections: {}\".format(len(all_dfs)))"
   ]
  },
  {
   "cell_type": "code",
   "execution_count": 26,
   "metadata": {},
   "outputs": [
    {
     "name": "stdout",
     "output_type": "stream",
     "text": [
      "Remaining connections: 6662591\n",
      "Remaining connections: 6621362\n"
     ]
    }
   ],
   "source": [
    "# Remove all rows where id.orig_h == id.resp_h\n",
    "all_dfs = all_dfs[all_dfs[\"id.orig_h\"] != all_dfs[\"id.resp_h\"]]\n",
    "print(\"Remaining connections: {}\".format(len(all_dfs)))\n",
    "# Remove all rows where either id.orig_h or id.resp_h is an IPV6 address\n",
    "all_dfs = all_dfs[\n",
    "    ~all_dfs[\"id.orig_h\"].str.contains(\":\") & ~all_dfs[\"id.resp_h\"].str.contains(\":\")\n",
    "]\n",
    "print(\"Remaining connections: {}\".format(len(all_dfs)))"
   ]
  },
  {
   "cell_type": "code",
   "execution_count": 27,
   "metadata": {},
   "outputs": [],
   "source": [
    "attacker_ip = \"13.58.225.34\""
   ]
  },
  {
   "cell_type": "code",
   "execution_count": 28,
   "metadata": {},
   "outputs": [
    {
     "name": "stdout",
     "output_type": "stream",
     "text": [
      "Number of connections from/to attacker: 4\n",
      "Percentage of connections from/to attacker: 0.00%\n"
     ]
    }
   ],
   "source": [
    "# Create a vector of 1s and 0s, where 1 indicates that the connection is either from or to the attacker\n",
    "is_attacker = (all_dfs[\"id.orig_h\"] == attacker_ip) | (all_dfs[\"id.resp_h\"] == attacker_ip)\n",
    "print(\"Number of connections from/to attacker: {}\".format(sum(is_attacker)))\n",
    "\n",
    "all_dfs[\"label\"] = is_attacker.astype(int)\n",
    "\n",
    "# Print the percentage of connections from/to the attacker\n",
    "print(\"Percentage of connections from/to attacker: {:.2f}%\".format(100 * sum(is_attacker) / len(all_dfs)))"
   ]
  },
  {
   "attachments": {},
   "cell_type": "markdown",
   "metadata": {},
   "source": [
    "There are only 4 connections to and from the attacker host. So we will include the compromised machines"
   ]
  },
  {
   "cell_type": "code",
   "execution_count": 29,
   "metadata": {},
   "outputs": [
    {
     "name": "stdout",
     "output_type": "stream",
     "text": [
      "Attacker IPs: ['13.58.225.34', '18.216.254.154', '172.31.69.13']\n"
     ]
    }
   ],
   "source": [
    "additional_attacker_ips = [\"18.216.254.154\", \"172.31.69.13\"]\n",
    "attacker_ips = [attacker_ip] + additional_attacker_ips\n",
    "print(\"Attacker IPs: {}\".format(attacker_ips))"
   ]
  },
  {
   "cell_type": "code",
   "execution_count": 30,
   "metadata": {},
   "outputs": [
    {
     "name": "stdout",
     "output_type": "stream",
     "text": [
      "Number of connections from/to attacker: 272004\n",
      "Percentage of connections from/to attacker: 4.11%\n"
     ]
    }
   ],
   "source": [
    "# Create a vector of 1s and 0s, where 1 indicates that the connection is either from or to one of the attacker IPs\n",
    "is_attacker = all_dfs[\"id.orig_h\"].isin(attacker_ips) | all_dfs[\"id.resp_h\"].isin(attacker_ips)\n",
    "print(\"Number of connections from/to attacker: {}\".format(sum(is_attacker)))\n",
    "\n",
    "all_dfs[\"label\"] = is_attacker.astype(int)\n",
    "\n",
    "# Print the percentage of connections from/to the attacker\n",
    "print(\"Percentage of connections from/to attacker: {:.2f}%\".format(100 * sum(is_attacker) / len(all_dfs)))\n"
   ]
  },
  {
   "cell_type": "code",
   "execution_count": 31,
   "metadata": {},
   "outputs": [],
   "source": [
    "# Convert the timestamp to a datetime object\n",
    "dates = [datetime.fromtimestamp(float(i)) for i in all_dfs[\"ts\"]]"
   ]
  },
  {
   "cell_type": "code",
   "execution_count": 32,
   "metadata": {},
   "outputs": [
    {
     "name": "stdout",
     "output_type": "stream",
     "text": [
      "Earliest date: 2018-02-27 07:18:26.348188\n",
      "Latest date: 2018-03-01 18:40:14.412141\n",
      "Number of connections before 12.00: 3446980\n",
      "Number of connections after 12.00: 3174382\n",
      "Percentage of connections from/to attacker before 12.00: 4.45%\n",
      "Percentage of connections from/to attacker after 12.00: 3.73%\n"
     ]
    }
   ],
   "source": [
    "# Find earliest and latest date\n",
    "print(\"Earliest date: {}\".format(min(dates)))\n",
    "print(\"Latest date: {}\".format(max(dates)))\n",
    "# Count the number of dates before 12.00 and after 12.00\n",
    "before_12 = sum([i.hour < 12 for i in dates])\n",
    "after_12 = sum([i.hour >= 12 for i in dates])\n",
    "print(\"Number of connections before 12.00: {}\".format(before_12))\n",
    "print(\"Number of connections after 12.00: {}\".format(after_12))\n",
    "\n",
    "# Count the percentage of label 1s before 12.00 and after 12.00\n",
    "before_12_attacker = sum(\n",
    "    (all_dfs[\"label\"] == 1) & ([i.hour < 12 for i in dates])\n",
    ")\n",
    "after_12_attacker = sum(\n",
    "    (all_dfs[\"label\"] == 1) & ([i.hour >= 12 for i in dates])\n",
    ")\n",
    "print(\"Percentage of connections from/to attacker before 12.00: {:.2f}%\".format(100 * before_12_attacker / before_12))\n",
    "print(\"Percentage of connections from/to attacker after 12.00: {:.2f}%\".format(100 * after_12_attacker / after_12))\n"
   ]
  },
  {
   "attachments": {},
   "cell_type": "markdown",
   "metadata": {},
   "source": [
    "### Basic classification test"
   ]
  },
  {
   "cell_type": "code",
   "execution_count": 33,
   "metadata": {},
   "outputs": [
    {
     "name": "stdout",
     "output_type": "stream",
     "text": [
      "Number of connections in train: 3446980\n",
      "Number of connections in test: 3174382\n"
     ]
    }
   ],
   "source": [
    "# Split the data into train and test by selecting connections before and after 12.00\n",
    "train = all_dfs[[i.hour < 12 for i in dates]]\n",
    "test = all_dfs[[i.hour >= 12 for i in dates]]\n",
    "\n",
    "print(\"Number of connections in train: {}\".format(len(train)))\n",
    "print(\"Number of connections in test: {}\".format(len(test)))"
   ]
  },
  {
   "cell_type": "code",
   "execution_count": 34,
   "metadata": {},
   "outputs": [
    {
     "name": "stdout",
     "output_type": "stream",
     "text": [
      "Initial number of features: 9\n",
      "Number of features after one hot encoding: 23\n"
     ]
    }
   ],
   "source": [
    "y_trn = train[\"label\"]\n",
    "y_tst = test[\"label\"]\n",
    "\n",
    "x_trn = train.drop(columns=[\"label\", \"ts\", \"uid\", \"id.orig_h\", \"id.resp_h\", \"service\"])\n",
    "x_tst = test.drop(columns=[\"label\", \"ts\", \"uid\", \"id.orig_h\", \"id.resp_h\", \"service\"])\n",
    "print(\"Initial number of features: {}\".format(len(x_trn.columns)))\n",
    "assert len(x_trn.columns) == len(x_tst.columns)\n",
    "\n",
    "# Convert all '-' to 0\n",
    "x_trn = x_trn.replace(\"-\", 0)\n",
    "x_tst = x_tst.replace(\"-\", 0)\n",
    "\n",
    "# One hot encode the categorical features\n",
    "# categorical_features = [\"proto\", \"service\", \"conn_state\"]\n",
    "categorical_features = [\"proto\", \"conn_state\"]\n",
    "x_trn = pd.get_dummies(x_trn, columns=categorical_features)\n",
    "x_tst = pd.get_dummies(x_tst, columns=categorical_features)\n",
    "print(\"Number of features after one hot encoding: {}\".format(len(x_trn.columns)))\n",
    "assert len(x_trn.columns) == len(x_tst.columns)"
   ]
  },
  {
   "cell_type": "code",
   "execution_count": 35,
   "metadata": {},
   "outputs": [],
   "source": [
    "from sklearn.ensemble import RandomForestClassifier\n",
    "from sklearn.metrics import accuracy_score, f1_score, confusion_matrix, classification_report"
   ]
  },
  {
   "cell_type": "code",
   "execution_count": 36,
   "metadata": {},
   "outputs": [
    {
     "data": {
      "text/html": [
       "<style>#sk-container-id-2 {color: black;background-color: white;}#sk-container-id-2 pre{padding: 0;}#sk-container-id-2 div.sk-toggleable {background-color: white;}#sk-container-id-2 label.sk-toggleable__label {cursor: pointer;display: block;width: 100%;margin-bottom: 0;padding: 0.3em;box-sizing: border-box;text-align: center;}#sk-container-id-2 label.sk-toggleable__label-arrow:before {content: \"▸\";float: left;margin-right: 0.25em;color: #696969;}#sk-container-id-2 label.sk-toggleable__label-arrow:hover:before {color: black;}#sk-container-id-2 div.sk-estimator:hover label.sk-toggleable__label-arrow:before {color: black;}#sk-container-id-2 div.sk-toggleable__content {max-height: 0;max-width: 0;overflow: hidden;text-align: left;background-color: #f0f8ff;}#sk-container-id-2 div.sk-toggleable__content pre {margin: 0.2em;color: black;border-radius: 0.25em;background-color: #f0f8ff;}#sk-container-id-2 input.sk-toggleable__control:checked~div.sk-toggleable__content {max-height: 200px;max-width: 100%;overflow: auto;}#sk-container-id-2 input.sk-toggleable__control:checked~label.sk-toggleable__label-arrow:before {content: \"▾\";}#sk-container-id-2 div.sk-estimator input.sk-toggleable__control:checked~label.sk-toggleable__label {background-color: #d4ebff;}#sk-container-id-2 div.sk-label input.sk-toggleable__control:checked~label.sk-toggleable__label {background-color: #d4ebff;}#sk-container-id-2 input.sk-hidden--visually {border: 0;clip: rect(1px 1px 1px 1px);clip: rect(1px, 1px, 1px, 1px);height: 1px;margin: -1px;overflow: hidden;padding: 0;position: absolute;width: 1px;}#sk-container-id-2 div.sk-estimator {font-family: monospace;background-color: #f0f8ff;border: 1px dotted black;border-radius: 0.25em;box-sizing: border-box;margin-bottom: 0.5em;}#sk-container-id-2 div.sk-estimator:hover {background-color: #d4ebff;}#sk-container-id-2 div.sk-parallel-item::after {content: \"\";width: 100%;border-bottom: 1px solid gray;flex-grow: 1;}#sk-container-id-2 div.sk-label:hover label.sk-toggleable__label {background-color: #d4ebff;}#sk-container-id-2 div.sk-serial::before {content: \"\";position: absolute;border-left: 1px solid gray;box-sizing: border-box;top: 0;bottom: 0;left: 50%;z-index: 0;}#sk-container-id-2 div.sk-serial {display: flex;flex-direction: column;align-items: center;background-color: white;padding-right: 0.2em;padding-left: 0.2em;position: relative;}#sk-container-id-2 div.sk-item {position: relative;z-index: 1;}#sk-container-id-2 div.sk-parallel {display: flex;align-items: stretch;justify-content: center;background-color: white;position: relative;}#sk-container-id-2 div.sk-item::before, #sk-container-id-2 div.sk-parallel-item::before {content: \"\";position: absolute;border-left: 1px solid gray;box-sizing: border-box;top: 0;bottom: 0;left: 50%;z-index: -1;}#sk-container-id-2 div.sk-parallel-item {display: flex;flex-direction: column;z-index: 1;position: relative;background-color: white;}#sk-container-id-2 div.sk-parallel-item:first-child::after {align-self: flex-end;width: 50%;}#sk-container-id-2 div.sk-parallel-item:last-child::after {align-self: flex-start;width: 50%;}#sk-container-id-2 div.sk-parallel-item:only-child::after {width: 0;}#sk-container-id-2 div.sk-dashed-wrapped {border: 1px dashed gray;margin: 0 0.4em 0.5em 0.4em;box-sizing: border-box;padding-bottom: 0.4em;background-color: white;}#sk-container-id-2 div.sk-label label {font-family: monospace;font-weight: bold;display: inline-block;line-height: 1.2em;}#sk-container-id-2 div.sk-label-container {text-align: center;}#sk-container-id-2 div.sk-container {/* jupyter's `normalize.less` sets `[hidden] { display: none; }` but bootstrap.min.css set `[hidden] { display: none !important; }` so we also need the `!important` here to be able to override the default hidden behavior on the sphinx rendered scikit-learn.org. See: https://github.com/scikit-learn/scikit-learn/issues/21755 */display: inline-block !important;position: relative;}#sk-container-id-2 div.sk-text-repr-fallback {display: none;}</style><div id=\"sk-container-id-2\" class=\"sk-top-container\"><div class=\"sk-text-repr-fallback\"><pre>RandomForestClassifier(n_jobs=-1)</pre><b>In a Jupyter environment, please rerun this cell to show the HTML representation or trust the notebook. <br />On GitHub, the HTML representation is unable to render, please try loading this page with nbviewer.org.</b></div><div class=\"sk-container\" hidden><div class=\"sk-item\"><div class=\"sk-estimator sk-toggleable\"><input class=\"sk-toggleable__control sk-hidden--visually\" id=\"sk-estimator-id-2\" type=\"checkbox\" checked><label for=\"sk-estimator-id-2\" class=\"sk-toggleable__label sk-toggleable__label-arrow\">RandomForestClassifier</label><div class=\"sk-toggleable__content\"><pre>RandomForestClassifier(n_jobs=-1)</pre></div></div></div></div></div>"
      ],
      "text/plain": [
       "RandomForestClassifier(n_jobs=-1)"
      ]
     },
     "execution_count": 36,
     "metadata": {},
     "output_type": "execute_result"
    }
   ],
   "source": [
    "model = RandomForestClassifier(n_estimators=100, n_jobs=-1)\n",
    "model.fit(x_trn, y_trn)"
   ]
  },
  {
   "cell_type": "code",
   "execution_count": 37,
   "metadata": {},
   "outputs": [
    {
     "name": "stdout",
     "output_type": "stream",
     "text": [
      "Accuracy: 97.60%\n",
      "F1 score: 55.58%\n",
      "Confusion matrix:\n",
      "[[3050512    5423]\n",
      " [  70778   47669]]\n",
      "Classification report:\n",
      "              precision    recall  f1-score   support\n",
      "\n",
      "           0       0.98      1.00      0.99   3055935\n",
      "           1       0.90      0.40      0.56    118447\n",
      "\n",
      "    accuracy                           0.98   3174382\n",
      "   macro avg       0.94      0.70      0.77   3174382\n",
      "weighted avg       0.97      0.98      0.97   3174382\n",
      "\n"
     ]
    }
   ],
   "source": [
    "preds = model.predict(x_tst)\n",
    "print(\"Accuracy: {:.2f}%\".format(100 * accuracy_score(y_tst, preds)))\n",
    "print(\"F1 score: {:.2f}%\".format(100 * f1_score(y_tst, preds)))\n",
    "print(\"Confusion matrix:\")\n",
    "print(confusion_matrix(y_tst, preds))\n",
    "print(\"Classification report:\")\n",
    "print(classification_report(y_tst, preds))"
   ]
  },
  {
   "cell_type": "code",
   "execution_count": 38,
   "metadata": {},
   "outputs": [
    {
     "name": "stdout",
     "output_type": "stream",
     "text": [
      "Feature ranking:\n",
      "  1. feature id.orig_p            0.3304765026789903\n",
      "  2. feature id.resp_p            0.23358243069753423\n",
      "  3. feature duration             0.13804234174519098\n",
      "  4. feature orig_bytes           0.05588194396147436\n",
      "  5. feature conn_state_S0        0.054853079992168804\n",
      "  6. feature resp_pkts            0.053724113731849855\n",
      "  7. feature resp_bytes           0.038037449766766145\n",
      "  8. feature orig_pkts            0.027337015114869884\n",
      "  9. feature proto_udp            0.017048351207917496\n",
      " 10. feature conn_state_REJ       0.014956929612303186\n",
      " 11. feature conn_state_SF        0.013976175018295093\n",
      " 12. feature proto_tcp            0.011923758074839657\n",
      " 13. feature conn_state_RSTR      0.0030629280609513134\n",
      " 14. feature conn_state_OTH       0.002466631721097827\n",
      " 15. feature conn_state_RSTO      0.0013162574936578322\n",
      " 16. feature conn_state_SHR       0.0011328213145896464\n",
      " 17. feature conn_state_S1        0.001103605255861409\n",
      " 18. feature conn_state_SH        0.0007805802940005737\n",
      " 19. feature conn_state_RSTRH     0.00019738773304048472\n",
      " 20. feature proto_icmp           9.688191613634613e-05\n",
      " 21. feature conn_state_RSTOS0    1.7341718673753484e-06\n",
      " 22. feature conn_state_S3        8.46826362659443e-07\n",
      " 23. feature conn_state_S2        2.3361023460406095e-07\n"
     ]
    }
   ],
   "source": [
    "# Show the relative importance of each feature\n",
    "importances = model.feature_importances_\n",
    "indices = np.argsort(importances)[::-1]\n",
    "print(\"Feature ranking:\")\n",
    "for f in range(x_trn.shape[1]):\n",
    "    print(\n",
    "        \"{:3}. feature {:20} {:5}\".format(\n",
    "            f + 1, x_trn.columns[indices[f]], importances[indices[f]]\n",
    "        )\n",
    "    )"
   ]
  },
  {
   "attachments": {},
   "cell_type": "markdown",
   "metadata": {},
   "source": [
    "## Models"
   ]
  },
  {
   "cell_type": "code",
   "execution_count": 14,
   "metadata": {},
   "outputs": [],
   "source": [
    "from sklearn.metrics import accuracy_score, precision_score, recall_score, f1_score\n",
    "\n",
    "from poisnet import constants, data_utils, utils"
   ]
  },
  {
   "cell_type": "code",
   "execution_count": 12,
   "metadata": {},
   "outputs": [],
   "source": [
    "scenario_tag = constants.cicids_botnet_tag\n",
    "\n",
    "BOTNET_IPS = {\n",
    "    \"friday_02-03-2018_morning\": (\"18.219.211.138\"),\n",
    "    \"friday_02-03-2018_afternoon\": (\"18.219.211.138\"),\n",
    "}\n",
    "\n",
    "INTERNAL = (\"172.31.\", \"18.219.211.138\")\n",
    "model_types = [\"GradientBoosting\", \"FFNN\"]\n"
   ]
  },
  {
   "cell_type": "code",
   "execution_count": 10,
   "metadata": {},
   "outputs": [],
   "source": [
    "train_captures = constants.subscenarios[scenario_tag][\"train\"]\n",
    "test_captures = constants.subscenarios[scenario_tag][\"test\"]\n",
    "train_name = \"friday_02-03-2018_morning\"\n",
    "test_name = \"friday_02-03-2018_afternoon\""
   ]
  },
  {
   "cell_type": "code",
   "execution_count": 11,
   "metadata": {},
   "outputs": [
    {
     "name": "stdout",
     "output_type": "stream",
     "text": [
      "friday_02-03-2018_morning shape: (3005968, 14)\n",
      "friday_02-03-2018_afternoon shape: (3197935, 14)\n",
      "Current conn log shape: (3005968, 14)\n",
      "Added orig_row column: (3005968, 15)\n",
      "Removed NaN values: (3005968, 15)\n",
      "Removed IPV6 addresses: (3005968, 15)\n",
      "Removed external connections: (3005858, 15)\n",
      "src_df shape:  (1685404, 21)\n",
      "dst_df shape:  (1320454, 21)\n",
      "src_agg shape:  (196442, 37)\n",
      "dst_agg shape:  (294750, 37)\n",
      "\n",
      "train shape: (213059, 1152)\n",
      "train labels: (213059,)\n",
      "train labels: (array([0, 1]), array([212725,    334]))\n",
      "train rows: (213059,)\n",
      "Current conn log shape: (3197935, 14)\n",
      "Added orig_row column: (3197935, 15)\n",
      "Removed NaN values: (3197935, 15)\n",
      "Removed IPV6 addresses: (3197935, 15)\n",
      "Removed external connections: (3197848, 15)\n",
      "src_df shape:  (1672708, 21)\n",
      "dst_df shape:  (1525140, 21)\n",
      "src_agg shape:  (205075, 37)\n",
      "dst_agg shape:  (316142, 37)\n",
      "\n",
      "test shape: (229253, 1152)\n",
      "test labels: (229253,)\n",
      "test labels: (array([0, 1]), array([228903,    350]))\n",
      "test rows: (229253,)\n"
     ]
    }
   ],
   "source": [
    "train_cl = pd.read_csv(\n",
    "    os.path.join(constants.cicids_base_pth, train_name, \"conn_log.csv\")\n",
    ")\n",
    "test_cl = pd.read_csv(\n",
    "    os.path.join(constants.cicids_base_pth, test_name, \"conn_log.csv\")\n",
    ")\n",
    "train_cl.sort_values(by=\"ts\", inplace=True)\n",
    "test_cl.sort_values(by=\"ts\", inplace=True)\n",
    "print(f\"{train_name} shape:\", train_cl.shape)\n",
    "print(f\"{test_name} shape:\", test_cl.shape)\n",
    "train_cl_reference = train_cl.copy()\n",
    "test_cl_reference = test_cl.copy()\n",
    "all_cl = {\n",
    "    \"friday_02-03-2018_morning\": train_cl,\n",
    "    \"friday_02-03-2018_afternoon\": test_cl,\n",
    "}\n",
    "\n",
    "# Extract aggregated features from the conn.log files\n",
    "df_train, labels_train, rows_train = data_utils.process_zeek_csv(\n",
    "    train_cl,\n",
    "    internal_prefixes=INTERNAL,\n",
    "    attacker_ips=BOTNET_IPS[train_name],\n",
    "    t_window=30,\n",
    "    remove_int_int=False,\n",
    ")\n",
    "print(\"\\ntrain shape: {}\".format(df_train.shape))\n",
    "print(\"train labels: {}\".format(labels_train.shape))\n",
    "print(\"train labels: {}\".format(np.unique(labels_train, return_counts=True)))\n",
    "print(\"train rows: {}\".format(rows_train.shape))\n",
    "\n",
    "df_test, labels_test, rows_test = data_utils.process_zeek_csv(\n",
    "    test_cl,\n",
    "    internal_prefixes=INTERNAL,\n",
    "    attacker_ips=BOTNET_IPS[test_name],\n",
    "    t_window=30,\n",
    "    remove_int_int=False,\n",
    ")\n",
    "print(\"\\ntest shape: {}\".format(df_test.shape))\n",
    "print(\"test labels: {}\".format(labels_test.shape))\n",
    "print(\"test labels: {}\".format(np.unique(labels_test, return_counts=True)))\n",
    "print(\"test rows: {}\".format(rows_test.shape))\n",
    "assert np.array_equal(df_train.columns.to_numpy(), df_test.columns.to_numpy())\n",
    "\n",
    "\n",
    "all_df = {\n",
    "    \"friday_02-03-2018_morning\": df_train,\n",
    "    \"friday_02-03-2018_afternoon\": df_test,\n",
    "}\n",
    "all_labels = {\n",
    "    \"friday_02-03-2018_morning\": labels_train,\n",
    "    \"friday_02-03-2018_afternoon\": labels_test,\n",
    "}\n",
    "all_rows = {\n",
    "    \"friday_02-03-2018_morning\": rows_train,\n",
    "    \"friday_02-03-2018_afternoon\": rows_test,\n",
    "}"
   ]
  },
  {
   "cell_type": "code",
   "execution_count": 17,
   "metadata": {},
   "outputs": [
    {
     "name": "stdout",
     "output_type": "stream",
     "text": [
      "Epoch 1/10\n",
      "1665/1665 [==============================] - 12s 7ms/step - loss: 0.0031 - accuracy: 0.9996\n",
      "Epoch 2/10\n",
      "1665/1665 [==============================] - 12s 7ms/step - loss: 6.0019e-05 - accuracy: 1.0000\n",
      "Epoch 3/10\n",
      "1665/1665 [==============================] - 11s 7ms/step - loss: 3.2248e-04 - accuracy: 1.0000\n",
      "Epoch 4/10\n",
      "1665/1665 [==============================] - 12s 7ms/step - loss: 1.0911e-04 - accuracy: 1.0000\n",
      "Epoch 5/10\n",
      "1665/1665 [==============================] - 12s 7ms/step - loss: 6.0855e-05 - accuracy: 1.0000\n",
      "Epoch 6/10\n",
      "1665/1665 [==============================] - 12s 7ms/step - loss: 1.2418e-04 - accuracy: 1.0000\n",
      "Epoch 7/10\n",
      "1665/1665 [==============================] - 11s 7ms/step - loss: 8.0428e-05 - accuracy: 1.0000\n",
      "Epoch 8/10\n",
      "1665/1665 [==============================] - 11s 7ms/step - loss: 1.4680e-04 - accuracy: 1.0000\n",
      "Epoch 9/10\n",
      "1665/1665 [==============================] - 12s 7ms/step - loss: 3.2107e-05 - accuracy: 1.0000\n",
      "Epoch 10/10\n",
      "1665/1665 [==============================] - 12s 7ms/step - loss: 5.1447e-05 - accuracy: 1.0000\n",
      "6659/6659 [==============================] - 13s 2ms/step\n",
      "6090/6090 [==============================] - 12s 2ms/step\n",
      "Epoch 1/10\n",
      "1665/1665 [==============================] - 12s 7ms/step - loss: 0.0029 - accuracy: 0.9994\n",
      "Epoch 2/10\n",
      "1665/1665 [==============================] - 12s 7ms/step - loss: 5.7719e-05 - accuracy: 1.0000\n",
      "Epoch 3/10\n",
      "1665/1665 [==============================] - 12s 7ms/step - loss: 1.1167e-04 - accuracy: 1.0000\n",
      "Epoch 4/10\n",
      "1665/1665 [==============================] - 12s 7ms/step - loss: 8.9806e-05 - accuracy: 1.0000\n",
      "Epoch 5/10\n",
      "1665/1665 [==============================] - 12s 7ms/step - loss: 1.4277e-04 - accuracy: 1.0000\n",
      "Epoch 6/10\n",
      "1665/1665 [==============================] - 12s 7ms/step - loss: 8.9417e-05 - accuracy: 1.0000\n",
      "Epoch 7/10\n",
      "1665/1665 [==============================] - 12s 7ms/step - loss: 9.9678e-05 - accuracy: 1.0000\n",
      "Epoch 8/10\n",
      "1665/1665 [==============================] - 12s 7ms/step - loss: 9.2496e-05 - accuracy: 1.0000\n",
      "Epoch 9/10\n",
      "1665/1665 [==============================] - 12s 7ms/step - loss: 9.2025e-05 - accuracy: 1.0000\n",
      "Epoch 10/10\n",
      "1665/1665 [==============================] - 12s 7ms/step - loss: 6.8497e-05 - accuracy: 1.0000\n",
      "6659/6659 [==============================] - 13s 2ms/step\n",
      "6090/6090 [==============================] - 11s 2ms/step\n",
      "Epoch 1/10\n",
      "1665/1665 [==============================] - 12s 7ms/step - loss: 0.0031 - accuracy: 0.9993\n",
      "Epoch 2/10\n",
      "1665/1665 [==============================] - 12s 7ms/step - loss: 6.2136e-05 - accuracy: 1.0000\n",
      "Epoch 3/10\n",
      "1665/1665 [==============================] - 12s 7ms/step - loss: 1.0938e-04 - accuracy: 1.0000\n",
      "Epoch 4/10\n",
      "1665/1665 [==============================] - 12s 7ms/step - loss: 1.0562e-04 - accuracy: 1.0000\n",
      "Epoch 5/10\n",
      "1665/1665 [==============================] - 12s 7ms/step - loss: 1.6958e-04 - accuracy: 1.0000\n",
      "Epoch 6/10\n",
      "1665/1665 [==============================] - 11s 7ms/step - loss: 4.2624e-05 - accuracy: 1.0000\n",
      "Epoch 7/10\n",
      "1665/1665 [==============================] - 12s 7ms/step - loss: 1.3185e-04 - accuracy: 1.0000\n",
      "Epoch 8/10\n",
      "1665/1665 [==============================] - 12s 7ms/step - loss: 1.1051e-04 - accuracy: 1.0000\n",
      "Epoch 9/10\n",
      "1665/1665 [==============================] - 12s 7ms/step - loss: 4.4329e-05 - accuracy: 1.0000\n",
      "Epoch 10/10\n",
      "1665/1665 [==============================] - 11s 7ms/step - loss: 8.9830e-05 - accuracy: 1.0000\n",
      "6659/6659 [==============================] - 13s 2ms/step\n",
      "6090/6090 [==============================] - 12s 2ms/step\n",
      "Epoch 1/10\n",
      "1665/1665 [==============================] - 14s 7ms/step - loss: 0.0030 - accuracy: 0.9996\n",
      "Epoch 2/10\n",
      "1665/1665 [==============================] - 12s 7ms/step - loss: 6.4813e-05 - accuracy: 1.0000\n",
      "Epoch 3/10\n",
      "1665/1665 [==============================] - 12s 7ms/step - loss: 7.6427e-05 - accuracy: 1.0000\n",
      "Epoch 4/10\n",
      "1665/1665 [==============================] - 12s 7ms/step - loss: 1.0224e-04 - accuracy: 1.0000\n",
      "Epoch 5/10\n",
      "1665/1665 [==============================] - 12s 7ms/step - loss: 1.1320e-04 - accuracy: 1.0000\n",
      "Epoch 6/10\n",
      "1665/1665 [==============================] - 12s 7ms/step - loss: 1.0890e-04 - accuracy: 1.0000\n",
      "Epoch 7/10\n",
      "1665/1665 [==============================] - 12s 7ms/step - loss: 6.4325e-05 - accuracy: 1.0000\n",
      "Epoch 8/10\n",
      "1665/1665 [==============================] - 12s 7ms/step - loss: 9.3369e-05 - accuracy: 1.0000\n",
      "Epoch 9/10\n",
      "1665/1665 [==============================] - 11s 7ms/step - loss: 1.1715e-04 - accuracy: 1.0000\n",
      "Epoch 10/10\n",
      "1665/1665 [==============================] - 12s 7ms/step - loss: 6.6399e-05 - accuracy: 1.0000\n",
      "6659/6659 [==============================] - 13s 2ms/step\n",
      "6090/6090 [==============================] - 12s 2ms/step\n",
      "Epoch 1/10\n",
      "1665/1665 [==============================] - 13s 7ms/step - loss: 0.0024 - accuracy: 0.9995\n",
      "Epoch 2/10\n",
      "1665/1665 [==============================] - 12s 7ms/step - loss: 7.4945e-05 - accuracy: 1.0000\n",
      "Epoch 3/10\n",
      "1665/1665 [==============================] - 12s 7ms/step - loss: 1.7245e-04 - accuracy: 1.0000\n",
      "Epoch 4/10\n",
      "1665/1665 [==============================] - 12s 7ms/step - loss: 1.9478e-04 - accuracy: 1.0000\n",
      "Epoch 5/10\n",
      "1665/1665 [==============================] - 11s 7ms/step - loss: 1.1362e-04 - accuracy: 1.0000\n",
      "Epoch 6/10\n",
      "1665/1665 [==============================] - 12s 7ms/step - loss: 8.1678e-05 - accuracy: 1.0000\n",
      "Epoch 7/10\n",
      "1665/1665 [==============================] - 11s 7ms/step - loss: 9.4151e-05 - accuracy: 1.0000\n",
      "Epoch 8/10\n",
      "1665/1665 [==============================] - 12s 7ms/step - loss: 6.7324e-05 - accuracy: 1.0000\n",
      "Epoch 9/10\n",
      "1665/1665 [==============================] - 12s 7ms/step - loss: 5.5054e-05 - accuracy: 1.0000\n",
      "Epoch 10/10\n",
      "1665/1665 [==============================] - 12s 7ms/step - loss: 8.5360e-05 - accuracy: 1.0000\n",
      "6659/6659 [==============================] - 13s 2ms/step\n",
      "6090/6090 [==============================] - 12s 2ms/step\n"
     ]
    }
   ],
   "source": [
    "from collections import defaultdict\n",
    "from sklearn.model_selection import train_test_split\n",
    "\n",
    "trn_accs = defaultdict(list)\n",
    "trn_f1s = defaultdict(list)\n",
    "trn_precs = defaultdict(list)\n",
    "trn_recalls = defaultdict(list)\n",
    "tst_accs = defaultdict(list)\n",
    "tst_f1s = defaultdict(list)\n",
    "tst_precs = defaultdict(list)\n",
    "tst_recalls = defaultdict(list)\n",
    "\n",
    "for seed in range(5):\n",
    "    for model_type in model_types:\n",
    "\n",
    "        orig_x_train = np.concatenate([all_df[tc].values for tc in train_captures])\n",
    "        orig_y_train = np.concatenate([all_labels[tc] for tc in train_captures])\n",
    "        orig_rows_train = np.concatenate([all_rows[tc] for tc in train_captures])\n",
    "        orig_src_train = np.concatenate(\n",
    "            [np.full(all_df[tc].shape[0], tc) for tc in train_captures]\n",
    "        )\n",
    "\n",
    "        # Test and adversarial datasets\n",
    "        tst_cp = test_captures[0]  # There is only one test capture\n",
    "        tst_indices, adv_indices, = train_test_split(\n",
    "            np.arange(all_df[tst_cp].values.shape[0]),\n",
    "            test_size=0.15,\n",
    "            random_state=seed,\n",
    "            stratify=all_labels[tst_cp],\n",
    "        )\n",
    "        tst_indices = np.sort(tst_indices)\n",
    "        adv_indices = np.sort(adv_indices)\n",
    "        orig_x_test = all_df[tst_cp].values[tst_indices]\n",
    "        orig_y_test = all_labels[tst_cp][tst_indices]\n",
    "        x_adv = all_df[tst_cp].values[adv_indices]\n",
    "        y_adv = all_labels[tst_cp][adv_indices]\n",
    "\n",
    "        orig_model = utils.train_model(\n",
    "            model_type=model_type,\n",
    "            x_trn=orig_x_train,\n",
    "            y_trn=orig_y_train,\n",
    "            save_pth=None,\n",
    "            random_state=seed,\n",
    "        )\n",
    "\n",
    "        # Evaluate the original model\n",
    "        orig_train_pred = orig_model.predict(orig_x_train)\n",
    "        orig_test_pred = orig_model.predict(orig_x_test)\n",
    "\n",
    "        orig_train_acc = accuracy_score(orig_y_train, orig_train_pred)\n",
    "        orig_test_acc = accuracy_score(orig_y_test, orig_test_pred)\n",
    "        orig_train_f1 = f1_score(orig_y_train, orig_train_pred)\n",
    "        orig_test_f1 = f1_score(orig_y_test, orig_test_pred)\n",
    "        orig_train_prec = precision_score(orig_y_train, orig_train_pred)\n",
    "        orig_test_prec = precision_score(orig_y_test, orig_test_pred)\n",
    "        orig_train_rec = recall_score(orig_y_train, orig_train_pred)\n",
    "        orig_test_rec = recall_score(orig_y_test, orig_test_pred)\n",
    "        \n",
    "        trn_accs[model_type].append(orig_train_acc)\n",
    "        trn_f1s[model_type].append(orig_train_f1)\n",
    "        trn_precs[model_type].append(orig_train_prec)\n",
    "        trn_recalls[model_type].append(orig_train_rec)\n",
    "        \n",
    "        tst_accs[model_type].append(orig_test_acc)\n",
    "        tst_f1s[model_type].append(orig_test_f1)\n",
    "        tst_precs[model_type].append(orig_test_prec)\n",
    "        tst_recalls[model_type].append(orig_test_rec)\n",
    "\n"
   ]
  },
  {
   "cell_type": "code",
   "execution_count": 18,
   "metadata": {},
   "outputs": [
    {
     "name": "stdout",
     "output_type": "stream",
     "text": [
      "Train Accuracies\n",
      "GradientBoosting: 0.9999887355145758\n",
      "FFNN: 0.9999953064644066\n",
      "Train F1s\n",
      "GradientBoosting: 0.9963515958915521\n",
      "FFNN: 0.9985007496251874\n",
      "Train Precisions\n",
      "GradientBoosting: 1.0\n",
      "FFNN: 1.0\n",
      "Train Recalls\n",
      "GradientBoosting: 0.9928143712574851\n",
      "FFNN: 0.9970059880239521\n",
      "\n",
      "Test Accuracies\n",
      "GradientBoosting: 0.9999804993200421\n",
      "FFNN: 0.9999846047263489\n",
      "Test F1s\n",
      "GradientBoosting: 0.9936391135214663\n",
      "FFNN: 0.9949295626960601\n",
      "Test Precisions\n",
      "GradientBoosting: 0.9927148643275959\n",
      "FFNN: 0.9986486332249044\n",
      "Test Recalls\n",
      "GradientBoosting: 0.9946127946127946\n",
      "FFNN: 0.9912457912457914\n"
     ]
    }
   ],
   "source": [
    "print(\"Train Accuracies\")\n",
    "for model_type in model_types:\n",
    "    print(\"{}: {}\".format(model_type, np.mean(trn_accs[model_type])))\n",
    "print(\"Train F1s\")\n",
    "for model_type in model_types:\n",
    "    print(\"{}: {}\".format(model_type, np.mean(trn_f1s[model_type])))\n",
    "print(\"Train Precisions\")\n",
    "for model_type in model_types:\n",
    "    print(\"{}: {}\".format(model_type, np.mean(trn_precs[model_type])))\n",
    "print(\"Train Recalls\")\n",
    "for model_type in model_types:\n",
    "    print(\"{}: {}\".format(model_type, np.mean(trn_recalls[model_type])))\n",
    "print()\n",
    "print(\"Test Accuracies\")\n",
    "for model_type in model_types:\n",
    "    print(\"{}: {}\".format(model_type, np.mean(tst_accs[model_type])))\n",
    "print(\"Test F1s\")\n",
    "for model_type in model_types:\n",
    "    print(\"{}: {}\".format(model_type, np.mean(tst_f1s[model_type])))\n",
    "print(\"Test Precisions\")\n",
    "for model_type in model_types:\n",
    "    print(\"{}: {}\".format(model_type, np.mean(tst_precs[model_type])))\n",
    "print(\"Test Recalls\")\n",
    "for model_type in model_types:\n",
    "    print(\"{}: {}\".format(model_type, np.mean(tst_recalls[model_type])))\n",
    "\n"
   ]
  },
  {
   "cell_type": "code",
   "execution_count": null,
   "metadata": {},
   "outputs": [],
   "source": []
  }
 ],
 "metadata": {
  "kernelspec": {
   "display_name": "netpois",
   "language": "python",
   "name": "python3"
  },
  "language_info": {
   "codemirror_mode": {
    "name": "ipython",
    "version": 3
   },
   "file_extension": ".py",
   "mimetype": "text/x-python",
   "name": "python",
   "nbconvert_exporter": "python",
   "pygments_lexer": "ipython3",
   "version": "3.8.13"
  },
  "orig_nbformat": 4
 },
 "nbformat": 4,
 "nbformat_minor": 2
}
